{
 "cells": [
  {
   "cell_type": "code",
   "execution_count": 2,
   "metadata": {},
   "outputs": [],
   "source": [
    "import cv2\n",
    "import numpy as np"
   ]
  },
  {
   "attachments": {},
   "cell_type": "markdown",
   "metadata": {},
   "source": [
    "### Read image"
   ]
  },
  {
   "cell_type": "code",
   "execution_count": 5,
   "metadata": {},
   "outputs": [],
   "source": [
    "\n",
    "img = cv2.imread('images/apple.jpg', 0 )   # 0 for gray scale , \n",
    "                                    # 1 for color , \n",
    "                                    # -1 for alpha channel\n"
   ]
  },
  {
   "cell_type": "code",
   "execution_count": 5,
   "metadata": {},
   "outputs": [
    {
     "name": "stdout",
     "output_type": "stream",
     "text": [
      "[[[255 255 255]\n",
      "  [255 255 255]\n",
      "  [255 255 255]\n",
      "  ...\n",
      "  [255 255 255]\n",
      "  [255 255 255]\n",
      "  [255 255 255]]\n",
      "\n",
      " [[255 255 255]\n",
      "  [255 255 255]\n",
      "  [255 255 255]\n",
      "  ...\n",
      "  [255 255 255]\n",
      "  [255 255 255]\n",
      "  [255 255 255]]\n",
      "\n",
      " [[255 255 255]\n",
      "  [255 255 255]\n",
      "  [255 255 255]\n",
      "  ...\n",
      "  [255 255 255]\n",
      "  [255 255 255]\n",
      "  [255 255 255]]\n",
      "\n",
      " ...\n",
      "\n",
      " [[255 255 255]\n",
      "  [255 255 255]\n",
      "  [255 255 255]\n",
      "  ...\n",
      "  [255 255 255]\n",
      "  [255 255 255]\n",
      "  [255 255 255]]\n",
      "\n",
      " [[255 255 255]\n",
      "  [255 255 255]\n",
      "  [255 255 255]\n",
      "  ...\n",
      "  [255 255 255]\n",
      "  [255 255 255]\n",
      "  [255 255 255]]\n",
      "\n",
      " [[255 255 255]\n",
      "  [255 255 255]\n",
      "  [255 255 255]\n",
      "  ...\n",
      "  [255 255 255]\n",
      "  [255 255 255]\n",
      "  [255 255 255]]]\n"
     ]
    }
   ],
   "source": [
    "print(img)"
   ]
  },
  {
   "cell_type": "markdown",
   "metadata": {},
   "source": [
    "### image show (imshow)"
   ]
  },
  {
   "cell_type": "code",
   "execution_count": 7,
   "metadata": {},
   "outputs": [],
   "source": [
    "cv2.imshow('image', img)\n",
    "\n",
    "# specify a wait key from keyboard\n",
    "k = cv2.waitKey(0)\n",
    "\n",
    "\n",
    "if k == 27: #wait for ESC key to exit\n",
    "  cv2.destroyAllWindows() #close the window   \n",
    "\n",
    "elif k == ord('s'): #if order is s save the image\n",
    "  cv2.imwrite('images/image_copie.png', img) #write image in your pc     \n",
    "  cv2.destroyAllWindows() # close the window     "
   ]
  },
  {
   "attachments": {},
   "cell_type": "markdown",
   "metadata": {},
   "source": [
    "![](images/image_copie.png)"
   ]
  },
  {
   "attachments": {},
   "cell_type": "markdown",
   "metadata": {},
   "source": [
    "### Show image and close it time intervale (in seconds) "
   ]
  },
  {
   "cell_type": "code",
   "execution_count": 8,
   "metadata": {},
   "outputs": [],
   "source": [
    "cv2.imshow('image', img)\n",
    "\n",
    "# specify a wait key from keyboard\n",
    "k = cv2.waitKey(5000)  # 5000 = 5 seconds\n",
    "cv2.destroyAllWindows() # close the window   \n"
   ]
  },
  {
   "attachments": {},
   "cell_type": "markdown",
   "metadata": {},
   "source": [
    "### Draw geometric shapes on images"
   ]
  },
  {
   "cell_type": "code",
   "execution_count": 29,
   "metadata": {},
   "outputs": [],
   "source": [
    "#img = cv2.imread('lena.jpg', 1)\n",
    "\n",
    "# This line creates a new image with dimensions of 512x512 pixels and 3 color channels (RGB)\n",
    "# All values in the image are initialized to zero using the np.zeros() function.\n",
    "img = np.zeros([512, 512, 3], np.uint8)  # Zeros mean black background\n",
    "\n",
    "# This line draws a line on the image \"img\" using the cv2.line() function.\n",
    "# The line starts at pixel coordinates (0,0) and ends at (255,255) with a thickness of 10 pixels.\n",
    "# The color of the line is specified as (214, 9, 237) which represents a shade of yellow.\n",
    "img = cv2.line(img, (0,0), (255,255), (214, 9, 237), 10)\n",
    " \n",
    "\n",
    "cv2.imshow('image', img)#show your work by window\n",
    "cv2.imwrite('images/black_bg.png', img) #write image in your pc \n",
    "cv2.waitKey(0)#wait any key from keyboard    \n",
    "cv2.destroyAllWindows() #close any opened window\n"
   ]
  },
  {
   "attachments": {},
   "cell_type": "markdown",
   "metadata": {},
   "source": [
    "![](images/black_bg.png)"
   ]
  },
  {
   "cell_type": "code",
   "execution_count": 30,
   "metadata": {},
   "outputs": [],
   "source": [
    "\n",
    "img = cv2.imread('images/apple.jpg', 1)\n",
    "\n",
    "img = cv2.line(img, (0,255), (255,255), (255, 0, 0), 10) #draw arrow\n",
    "\n",
    "cv2.imshow('image', img)#show your work by window\n",
    "cv2.imwrite('images/apple_line.png', img) #write image in your pc \n",
    "cv2.waitKey(0)#wait any key from keyboard    \n",
    "cv2.destroyAllWindows() #close any opened window"
   ]
  },
  {
   "attachments": {},
   "cell_type": "markdown",
   "metadata": {},
   "source": [
    "#### One can also replace \"line\" by \"arrowedLine\", \"rectangle\", \"circle\", \"putText\", \"ellipse\", ...\n"
   ]
  },
  {
   "cell_type": "code",
   "execution_count": 26,
   "metadata": {},
   "outputs": [],
   "source": [
    "\n",
    "img = cv2.imread('images/apple.jpg', 1)\n",
    "\n",
    "img = cv2.arrowedLine(img, (0,255), (255,255), (255, 0, 0), 10) #draw arrow\n",
    "\n",
    "cv2.imshow('image', img)#show your work by window\n",
    "cv2.imwrite('images/apple_arrawedline.png', img) #write image in your pc \n",
    "cv2.waitKey(0)#wait any key from keyboard    \n",
    "cv2.destroyAllWindows() #close any opened window"
   ]
  },
  {
   "attachments": {},
   "cell_type": "markdown",
   "metadata": {},
   "source": [
    "![](images/apple_line.png)"
   ]
  },
  {
   "cell_type": "code",
   "execution_count": 32,
   "metadata": {},
   "outputs": [],
   "source": [
    "img = cv2.imread('images/apple.jpg', 1)\n",
    "\n",
    "img = cv2.rectangle(img, (384, 0), (510, 128), (0, 0, 255), 10) #draw rectangle\n",
    "\n",
    "cv2.imshow('image', img)#show your work by window\n",
    "cv2.imwrite('images/apple_rectangle.png', img) #write image in your pc \n",
    "cv2.waitKey(0)#wait any key from keyboard    \n",
    "cv2.destroyAllWindows() #close any opened window"
   ]
  },
  {
   "attachments": {},
   "cell_type": "markdown",
   "metadata": {},
   "source": [
    "![](images/apple_rectangle.png)"
   ]
  },
  {
   "cell_type": "code",
   "execution_count": 33,
   "metadata": {},
   "outputs": [],
   "source": [
    "img = cv2.imread('images/apple.jpg', 1)\n",
    "\n",
    "img = cv2.circle(img, (447, 63), 63, (0, 255, 0), -1) #draw circle\n",
    "\n",
    "cv2.imshow('image', img)#show your work by window\n",
    "cv2.imwrite('images/apple_circle.png', img) #write image in your pc \n",
    "cv2.waitKey(0)#wait any key from keyboard    \n",
    "cv2.destroyAllWindows() #close any opened window"
   ]
  },
  {
   "attachments": {},
   "cell_type": "markdown",
   "metadata": {},
   "source": [
    "![](images/apple_circle.png)"
   ]
  },
  {
   "cell_type": "code",
   "execution_count": 38,
   "metadata": {},
   "outputs": [],
   "source": [
    "img = cv2.imread('images/apple.jpg', 1)\n",
    "\n",
    "font = cv2.FONT_HERSHEY_SIMPLEX #type of font\n",
    "img = cv2.putText(img, 'Test OpenCv', (10, 500), font, 2, (38, 242, 19), 10, cv2.LINE_AA)# write a text\n",
    "\n",
    "cv2.imshow('image', img)#show your work by window\n",
    "cv2.imwrite('images/apple_text.png', img) #write image in your pc \n",
    "cv2.waitKey(0)#wait any key from keyboard    \n",
    "cv2.destroyAllWindows() #close any opened window"
   ]
  },
  {
   "attachments": {},
   "cell_type": "markdown",
   "metadata": {},
   "source": [
    "![](images/apple_text.png)"
   ]
  },
  {
   "cell_type": "code",
   "execution_count": 39,
   "metadata": {},
   "outputs": [],
   "source": [
    "img = cv2.imread('images/apple.jpg', 1)\n",
    "\n",
    "img = cv2.ellipse(img,(256,256),(100,50),0,0,180,255,-1) #draw ellipse\n",
    "\n",
    "cv2.imshow('image', img)#show your work by window\n",
    "cv2.imwrite('images/apple_ellipse.png', img) #write image in your pc \n",
    "cv2.waitKey(0)#wait any key from keyboard    \n",
    "cv2.destroyAllWindows() #close any opened window"
   ]
  },
  {
   "attachments": {},
   "cell_type": "markdown",
   "metadata": {},
   "source": [
    "![](images/apple_ellipse.png)"
   ]
  }
 ],
 "metadata": {
  "kernelspec": {
   "display_name": "CV",
   "language": "python",
   "name": "python3"
  },
  "language_info": {
   "codemirror_mode": {
    "name": "ipython",
    "version": 3
   },
   "file_extension": ".py",
   "mimetype": "text/x-python",
   "name": "python",
   "nbconvert_exporter": "python",
   "pygments_lexer": "ipython3",
   "version": "3.11.3"
  },
  "orig_nbformat": 4
 },
 "nbformat": 4,
 "nbformat_minor": 2
}
